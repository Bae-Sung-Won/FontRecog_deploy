{
 "cells": [
  {
   "cell_type": "markdown",
   "id": "a651ae73-bd90-4509-a026-2e14e277fed0",
   "metadata": {},
   "source": [
    "# 폴더 트리구조 생성"
   ]
  },
  {
   "cell_type": "code",
   "execution_count": 1,
   "id": "7542f809-0581-4cf9-8124-6e04cae28b85",
   "metadata": {},
   "outputs": [
    {
     "data": {
      "text/plain": [
       "'C:\\\\Users\\\\NFS\\\\Desktop\\\\model_train'"
      ]
     },
     "execution_count": 1,
     "metadata": {},
     "output_type": "execute_result"
    }
   ],
   "source": [
    "pwd"
   ]
  },
  {
   "cell_type": "code",
   "execution_count": 3,
   "id": "d5d1549e-ba01-4b9e-b2a0-bca2db993047",
   "metadata": {},
   "outputs": [
    {
     "name": "stdout",
     "output_type": "stream",
     "text": [
      "C:\\Users\\NFS\\Desktop\\jupyter\\trace_skeleton\\stamp_font_data\n"
     ]
    },
    {
     "name": "stderr",
     "output_type": "stream",
     "text": [
      "C:\\Users\\NFS\\anaconda3\\envs\\test123\\Lib\\site-packages\\IPython\\core\\magics\\osm.py:417: UserWarning: using dhist requires you to install the `pickleshare` library.\n",
      "  self.shell.db['dhist'] = compress_dhist(dhist)[-100:]\n"
     ]
    }
   ],
   "source": [
    "# %cd stamp_font_data"
   ]
  },
  {
   "cell_type": "code",
   "execution_count": 2,
   "id": "39013485-e51d-4a17-999b-fbd7d3ff1888",
   "metadata": {},
   "outputs": [],
   "source": [
    "import sys\n",
    "\n",
    "sys.stdout = open('tree.txt', 'w')"
   ]
  },
  {
   "cell_type": "code",
   "execution_count": 3,
   "id": "1d3eada0-2f28-44dd-b300-eb13056f7bd2",
   "metadata": {},
   "outputs": [],
   "source": [
    "import natsort\n",
    "import glob, os.path\n",
    "ndir = nfile = 0\n",
    "\n",
    "def traverse(dir, depth):\n",
    "    global ndir, nfile\n",
    "    for obj in natsort.natsorted(glob.glob(dir + '/*')):\n",
    "        if depth == 0:\n",
    "            prefix = '|--'\n",
    "        else:\n",
    "            prefix = '|' + '    ' * depth + '|--'\n",
    "\n",
    "        if os.path.isdir(obj):  # 디렉터리인 경우\n",
    "            ndir += 1\n",
    "            print(prefix + os.path.basename(obj))\n",
    "            traverse(obj, depth + 1)\n",
    "\n",
    "        elif os.path.isfile(obj):\n",
    "            nfile += 1\n",
    "            print(prefix + os.path.basename(obj))\n",
    "            \n",
    "        else :\n",
    "            print(prefix + \"unknown object : \" + obj)\n",
    "\n",
    "if __name__ == '__main__':\n",
    "    traverse('.', 0)\n",
    "    print('\\n',ndir,'directiories,',nfile,'files')"
   ]
  },
  {
   "cell_type": "code",
   "execution_count": null,
   "id": "b97823fb-9afc-4751-9397-888b372380ca",
   "metadata": {},
   "outputs": [],
   "source": [
    "# 안끝나기 때문에, 커널 dead하고 나가면 됨.\n",
    "\n",
    "sys.stdout.close()"
   ]
  }
 ],
 "metadata": {
  "kernelspec": {
   "display_name": "Python 3 (ipykernel)",
   "language": "python",
   "name": "python3"
  },
  "language_info": {
   "codemirror_mode": {
    "name": "ipython",
    "version": 3
   },
   "file_extension": ".py",
   "mimetype": "text/x-python",
   "name": "python",
   "nbconvert_exporter": "python",
   "pygments_lexer": "ipython3",
   "version": "3.11.5"
  }
 },
 "nbformat": 4,
 "nbformat_minor": 5
}
